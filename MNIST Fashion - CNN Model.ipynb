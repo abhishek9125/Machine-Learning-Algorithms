{
 "cells": [
  {
   "cell_type": "markdown",
   "metadata": {},
   "source": [
    "# Building a CNN using Keras : Dataset - MNIST Fashion                                         "
   ]
  },
  {
   "cell_type": "code",
   "execution_count": 1,
   "metadata": {},
   "outputs": [
    {
     "name": "stderr",
     "output_type": "stream",
     "text": [
      "Using TensorFlow backend.\n"
     ]
    }
   ],
   "source": [
    "import pandas as pd\n",
    "import numpy as np\n",
    "from keras.models import Sequential\n",
    "from keras.layers import Input,Convolution2D,MaxPooling2D,Flatten,Dense,Dropout\n",
    "from keras.utils import np_utils\n",
    "import tensorflow\n",
    "import matplotlib.pyplot as plt"
   ]
  },
  {
   "cell_type": "markdown",
   "metadata": {},
   "source": [
    "# Data Preparation"
   ]
  },
  {
   "cell_type": "code",
   "execution_count": 6,
   "metadata": {},
   "outputs": [
    {
     "name": "stdout",
     "output_type": "stream",
     "text": [
      "(10000, 784) (10000,)\n"
     ]
    }
   ],
   "source": [
    "x = pd.read_csv(\"fashion-mnist_test.csv\")\n",
    "X_ = np.array(x)\n",
    "X = X_[:,1:]\n",
    "X = X/255.0\n",
    "y = X_[:,0]\n",
    "print(X.shape,y.shape)"
   ]
  },
  {
   "cell_type": "code",
   "execution_count": 7,
   "metadata": {},
   "outputs": [],
   "source": [
    "X_train = X.reshape((-1,28,28,1))\n",
    "Y_train = np_utils.to_categorical(y)"
   ]
  },
  {
   "cell_type": "code",
   "execution_count": 8,
   "metadata": {},
   "outputs": [
    {
     "name": "stdout",
     "output_type": "stream",
     "text": [
      "(10000, 28, 28, 1) (10000, 10)\n"
     ]
    }
   ],
   "source": [
    "print(X_train.shape,Y_train.shape)"
   ]
  },
  {
   "cell_type": "markdown",
   "metadata": {},
   "source": [
    "# CNN Model"
   ]
  },
  {
   "cell_type": "code",
   "execution_count": 9,
   "metadata": {},
   "outputs": [
    {
     "name": "stdout",
     "output_type": "stream",
     "text": [
      "Model: \"sequential_2\"\n",
      "_________________________________________________________________\n",
      "Layer (type)                 Output Shape              Param #   \n",
      "=================================================================\n",
      "conv2d_5 (Conv2D)            (None, 26, 26, 32)        320       \n",
      "_________________________________________________________________\n",
      "conv2d_6 (Conv2D)            (None, 24, 24, 64)        18496     \n",
      "_________________________________________________________________\n",
      "dropout_2 (Dropout)          (None, 24, 24, 64)        0         \n",
      "_________________________________________________________________\n",
      "max_pooling2d_2 (MaxPooling2 (None, 12, 12, 64)        0         \n",
      "_________________________________________________________________\n",
      "conv2d_7 (Conv2D)            (None, 8, 8, 32)          51232     \n",
      "_________________________________________________________________\n",
      "conv2d_8 (Conv2D)            (None, 4, 4, 8)           6408      \n",
      "_________________________________________________________________\n",
      "flatten_2 (Flatten)          (None, 128)               0         \n",
      "_________________________________________________________________\n",
      "dense_2 (Dense)              (None, 10)                1290      \n",
      "=================================================================\n",
      "Total params: 77,746\n",
      "Trainable params: 77,746\n",
      "Non-trainable params: 0\n",
      "_________________________________________________________________\n"
     ]
    }
   ],
   "source": [
    "model = Sequential()\n",
    "model.add(Convolution2D(32,(3,3),activation=\"relu\",input_shape=(28,28,1)))\n",
    "model.add(Convolution2D(64,(3,3),activation=\"relu\"))\n",
    "model.add(Dropout(0.25))\n",
    "model.add(MaxPooling2D(2,2))\n",
    "model.add(Convolution2D(32,(5,5),activation=\"relu\"))\n",
    "model.add(Convolution2D(8,(5,5),activation=\"relu\"))\n",
    "model.add(Flatten())\n",
    "model.add(Dense(10,activation=\"softmax\"))\n",
    "model.summary()"
   ]
  },
  {
   "cell_type": "code",
   "execution_count": 10,
   "metadata": {},
   "outputs": [],
   "source": [
    "model.compile(loss=\"categorical_crossentropy\",optimizer=\"adam\",metrics=[\"accuracy\"])"
   ]
  },
  {
   "cell_type": "code",
   "execution_count": 11,
   "metadata": {},
   "outputs": [
    {
     "name": "stdout",
     "output_type": "stream",
     "text": [
      "Train on 8000 samples, validate on 2000 samples\n",
      "Epoch 1/20\n",
      "8000/8000 [==============================] - 10s 1ms/step - loss: 1.5498 - accuracy: 0.4252 - val_loss: 0.9061 - val_accuracy: 0.6835\n",
      "Epoch 2/20\n",
      "8000/8000 [==============================] - 10s 1ms/step - loss: 0.7957 - accuracy: 0.7076 - val_loss: 0.7320 - val_accuracy: 0.7350\n",
      "Epoch 3/20\n",
      "8000/8000 [==============================] - 10s 1ms/step - loss: 0.6592 - accuracy: 0.7504 - val_loss: 0.6319 - val_accuracy: 0.7725\n",
      "Epoch 4/20\n",
      "8000/8000 [==============================] - 10s 1ms/step - loss: 0.5775 - accuracy: 0.7835 - val_loss: 0.5663 - val_accuracy: 0.7910\n",
      "Epoch 5/20\n",
      "8000/8000 [==============================] - 11s 1ms/step - loss: 0.5196 - accuracy: 0.8076 - val_loss: 0.5286 - val_accuracy: 0.8220\n",
      "Epoch 6/20\n",
      "8000/8000 [==============================] - 10s 1ms/step - loss: 0.4862 - accuracy: 0.8238 - val_loss: 0.4998 - val_accuracy: 0.8295\n",
      "Epoch 7/20\n",
      "8000/8000 [==============================] - 9s 1ms/step - loss: 0.4388 - accuracy: 0.8491 - val_loss: 0.4523 - val_accuracy: 0.8525\n",
      "Epoch 8/20\n",
      "8000/8000 [==============================] - 10s 1ms/step - loss: 0.4021 - accuracy: 0.8583 - val_loss: 0.4321 - val_accuracy: 0.8605\n",
      "Epoch 9/20\n",
      "8000/8000 [==============================] - 10s 1ms/step - loss: 0.3859 - accuracy: 0.8651 - val_loss: 0.4403 - val_accuracy: 0.8550\n",
      "Epoch 10/20\n",
      "8000/8000 [==============================] - 10s 1ms/step - loss: 0.3641 - accuracy: 0.8699 - val_loss: 0.4249 - val_accuracy: 0.8545\n",
      "Epoch 11/20\n",
      "8000/8000 [==============================] - 10s 1ms/step - loss: 0.3555 - accuracy: 0.8767 - val_loss: 0.4050 - val_accuracy: 0.8665\n",
      "Epoch 12/20\n",
      "8000/8000 [==============================] - 10s 1ms/step - loss: 0.3357 - accuracy: 0.8792 - val_loss: 0.4351 - val_accuracy: 0.8510\n",
      "Epoch 13/20\n",
      "8000/8000 [==============================] - 9s 1ms/step - loss: 0.3273 - accuracy: 0.8856 - val_loss: 0.3698 - val_accuracy: 0.8785\n",
      "Epoch 14/20\n",
      "8000/8000 [==============================] - 9s 1ms/step - loss: 0.3010 - accuracy: 0.8954 - val_loss: 0.3782 - val_accuracy: 0.8720\n",
      "Epoch 15/20\n",
      "8000/8000 [==============================] - 9s 1ms/step - loss: 0.2951 - accuracy: 0.8956 - val_loss: 0.3623 - val_accuracy: 0.8790\n",
      "Epoch 16/20\n",
      "8000/8000 [==============================] - 9s 1ms/step - loss: 0.2832 - accuracy: 0.8965 - val_loss: 0.3616 - val_accuracy: 0.8840\n",
      "Epoch 17/20\n",
      "8000/8000 [==============================] - 9s 1ms/step - loss: 0.2697 - accuracy: 0.9040 - val_loss: 0.3622 - val_accuracy: 0.8735\n",
      "Epoch 18/20\n",
      "8000/8000 [==============================] - 9s 1ms/step - loss: 0.2557 - accuracy: 0.9100 - val_loss: 0.3543 - val_accuracy: 0.8775\n",
      "Epoch 19/20\n",
      "8000/8000 [==============================] - 9s 1ms/step - loss: 0.2445 - accuracy: 0.9118 - val_loss: 0.3613 - val_accuracy: 0.8795\n",
      "Epoch 20/20\n",
      "8000/8000 [==============================] - 9s 1ms/step - loss: 0.2488 - accuracy: 0.9104 - val_loss: 0.3414 - val_accuracy: 0.8890\n"
     ]
    }
   ],
   "source": [
    "hist = model.fit(X_train,Y_train,epochs=20,shuffle=True,batch_size=256,validation_split=0.2)"
   ]
  },
  {
   "cell_type": "code",
   "execution_count": 13,
   "metadata": {},
   "outputs": [
    {
     "data": {
      "image/png": "[encoded data removed]",
      "text/plain": [
       "<Figure size 432x288 with 1 Axes>"
      ]
     },
     "metadata": {
      "needs_background": "light"
     },
     "output_type": "display_data"
    }
   ],
   "source": [
    "plt.figure(0)\n",
    "plt.plot(hist.history['loss'],'g')\n",
    "plt.plot(hist.history['val_loss'],'b')\n",
    "\n",
    "\n",
    "plt.plot(hist.history['accuracy'],'r')\n",
    "plt.plot(hist.history['val_accuracy'],'black')\n",
    "plt.show()"
   ]
  },
  {
   "cell_type": "code",
   "execution_count": null,
   "metadata": {},
   "outputs": [],
   "source": []
  }
 ],
 "metadata": {
  "kernelspec": {
   "display_name": "Python 3",
   "language": "python",
   "name": "python3"
  },
  "language_info": {
   "codemirror_mode": {
    "name": "ipython",
    "version": 3
   },
   "file_extension": ".py",
   "mimetype": "text/x-python",
   "name": "python",
   "nbconvert_exporter": "python",
   "pygments_lexer": "ipython3",
   "version": "3.7.6"
  }
 },
 "nbformat": 4,
 "nbformat_minor": 4
}
