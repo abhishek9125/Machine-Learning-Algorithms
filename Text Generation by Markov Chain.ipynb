{
 "cells": [
  {
   "cell_type": "code",
   "execution_count": 25,
   "metadata": {},
   "outputs": [],
   "source": [
    "import numpy as np"
   ]
  },
  {
   "cell_type": "code",
   "execution_count": 1,
   "metadata": {},
   "outputs": [],
   "source": [
    "def generateTable(data,k=4):\n",
    "    T = {}\n",
    "    for i in range(len(data)-k):\n",
    "        X = data[i:i+k]\n",
    "        Y = data[i+k]\n",
    "        \n",
    "        if T.get(X) is None:\n",
    "            T[X] = {}\n",
    "            T[X][Y] = 1\n",
    "        else:\n",
    "            if T[X].get(Y) is None:\n",
    "                T[X][Y] = 1\n",
    "            else:\n",
    "                T[X][Y] += 1\n",
    "    return T"
   ]
  },
  {
   "cell_type": "code",
   "execution_count": 3,
   "metadata": {},
   "outputs": [],
   "source": [
    "def toProbability(T):\n",
    "    for kx in T.keys():\n",
    "        s = float(sum(T[kx].values()))\n",
    "        for k in T[kx].keys():\n",
    "            T[kx][k] = T[kx][k]/s\n",
    "    return T"
   ]
  },
  {
   "cell_type": "code",
   "execution_count": 13,
   "metadata": {},
   "outputs": [
    {
     "name": "stdout",
     "output_type": "stream",
     "text": [
      "my dear countrymen,\n",
      "\n",
      "many of you wish many-many good wishes of the holy festival of independence.\n",
      "\n",
      "today the country is full of confidence. the country is crossing the new heights by plowing the resolve of dreams with hard work. today's sunrise has brought a new consciousness, new excitement, new excitement, new energy.\n",
      "\n",
      "our lovely countrymen, once in 12 years, flowers of nilakurinya grow in our country. this year, on the hills of nilgiris in the south, it is like our nilkurinji flower like the ashok chakra of the tricolor flag, in the festival of freedom of the country.\n",
      "\n",
      "my dear countrymen, we are celebrating this festival of independence, when our daughters uttarakhand, himachal, manipur, telangana, andhra pradesh - our daughters of these states crossed seven seas and coloring the seven seas with a color of tricolor came back\n",
      "\n",
      "my dear countrymen, we are celebrating the festival of independence at that time, when everest triumphs were so many, many of our heroes, many of our daughters\n"
     ]
    }
   ],
   "source": [
    "file_path = 'english_speech_2.txt'\n",
    "def load_text(filename):\n",
    "    with open(filename,encoding='utf-8') as f:\n",
    "        return f.read().lower()\n",
    "text = load_text(file_path)\n",
    "print(text[:1000])"
   ]
  },
  {
   "cell_type": "code",
   "execution_count": 14,
   "metadata": {},
   "outputs": [],
   "source": [
    "def trainMarkovChain(text,k=4):\n",
    "    T = generateTable(text,k)\n",
    "    T = toProbability(T)\n",
    "    return T"
   ]
  },
  {
   "cell_type": "code",
   "execution_count": 15,
   "metadata": {},
   "outputs": [],
   "source": [
    "model  = trainMarkovChain(text)"
   ]
  },
  {
   "cell_type": "code",
   "execution_count": 23,
   "metadata": {},
   "outputs": [],
   "source": [
    "def sample_next(ctx,T,k):\n",
    "    ctx = ctx[-k:]\n",
    "    if T.get(ctx) is None:\n",
    "        return \" \"\n",
    "    possible_chars = list(T[ctx].keys())\n",
    "    possible_values = list(T[ctx].values())\n",
    "    \n",
    "    return np.random.choice(possible_chars,p=possible_values)"
   ]
  },
  {
   "cell_type": "code",
   "execution_count": 31,
   "metadata": {},
   "outputs": [
    {
     "data": {
      "text/plain": [
       "'o'"
      ]
     },
     "execution_count": 31,
     "metadata": {},
     "output_type": "execute_result"
    }
   ],
   "source": [
    "sample_next(\"comm\",model,4)"
   ]
  },
  {
   "cell_type": "code",
   "execution_count": 33,
   "metadata": {},
   "outputs": [],
   "source": [
    "def generateText(start,k=4,maxLen=1000):\n",
    "    sentence = start\n",
    "    ctx = sentence[-k:]\n",
    "    \n",
    "    for i in range(maxLen):\n",
    "        next = sample_next(ctx,model,k)\n",
    "        sentence += next\n",
    "        ctx = sentence[-k:]\n",
    "    return sentence"
   ]
  },
  {
   "cell_type": "code",
   "execution_count": 38,
   "metadata": {},
   "outputs": [],
   "source": [
    "t = generateText(\"dear\",k=4,maxLen=600)"
   ]
  },
  {
   "cell_type": "code",
   "execution_count": 39,
   "metadata": {},
   "outputs": [
    {
     "name": "stdout",
     "output_type": "stream",
     "text": [
      "dear country.\n",
      "\n",
      "in order that time, who have been seas with whom even seas and rainfall the festival order the sake our countrymen, on these standing the next baisakhi is going us to protect that time parliament the boundaries of the message of the jubilee prisons of force, for the festival of our country broughters of the respect the coming confidence at time, when the army, their loved in the tried to be a hundred differed years of the session.\n",
      "\n",
      "we are celebrating the lost the country. i am involve of paramilitary for all the police of the holy festival of the service, when everest tricolor, insp\n"
     ]
    }
   ],
   "source": [
    "print(t)"
   ]
  },
  {
   "cell_type": "code",
   "execution_count": null,
   "metadata": {},
   "outputs": [],
   "source": []
  },
  {
   "cell_type": "code",
   "execution_count": null,
   "metadata": {},
   "outputs": [],
   "source": []
  },
  {
   "cell_type": "code",
   "execution_count": null,
   "metadata": {},
   "outputs": [],
   "source": []
  },
  {
   "cell_type": "code",
   "execution_count": null,
   "metadata": {},
   "outputs": [],
   "source": []
  },
  {
   "cell_type": "code",
   "execution_count": null,
   "metadata": {},
   "outputs": [],
   "source": []
  },
  {
   "cell_type": "code",
   "execution_count": null,
   "metadata": {},
   "outputs": [],
   "source": []
  },
  {
   "cell_type": "code",
   "execution_count": null,
   "metadata": {},
   "outputs": [],
   "source": []
  }
 ],
 "metadata": {
  "kernelspec": {
   "display_name": "Python 3",
   "language": "python",
   "name": "python3"
  },
  "language_info": {
   "codemirror_mode": {
    "name": "ipython",
    "version": 3
   },
   "file_extension": ".py",
   "mimetype": "text/x-python",
   "name": "python",
   "nbconvert_exporter": "python",
   "pygments_lexer": "ipython3",
   "version": "3.7.6"
  }
 },
 "nbformat": 4,
 "nbformat_minor": 4
}
